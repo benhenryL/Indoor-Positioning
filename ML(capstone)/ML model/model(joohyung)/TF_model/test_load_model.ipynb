{
 "cells": [
  {
   "cell_type": "code",
   "execution_count": 46,
   "metadata": {},
   "outputs": [],
   "source": [
    "# keras version : 2.4.3\n",
    "import numpy as np\n",
    "import pandas as pd\n",
    "import tensorflow as tf\n",
    "from tensorflow import keras\n",
    "import pickle\n",
    "import csv"
   ]
  },
  {
   "cell_type": "code",
   "execution_count": 47,
   "metadata": {},
   "outputs": [],
   "source": [
    "loaded_model = keras.models.load_model('keras_model1')"
   ]
  },
  {
   "cell_type": "code",
   "execution_count": 48,
   "metadata": {},
   "outputs": [
    {
     "data": {
      "text/plain": [
       "<tensorflow.python.keras.engine.sequential.Sequential at 0x19e0a09b648>"
      ]
     },
     "execution_count": 48,
     "metadata": {},
     "output_type": "execute_result"
    }
   ],
   "source": [
    "loaded_model"
   ]
  },
  {
   "cell_type": "code",
   "execution_count": 49,
   "metadata": {},
   "outputs": [],
   "source": [
    "df = pd.read_csv('training_dataset_remove_duplicates.csv')\n",
    "scaler = pickle.load(open('scaler.pkl', 'rb'))\n",
    "encoder = pickle.load(open('label_encoder.pkl', 'rb'))\n",
    "num_row, num_col = df.shape"
   ]
  },
  {
   "cell_type": "code",
   "execution_count": 50,
   "metadata": {},
   "outputs": [],
   "source": [
    "X = df.iloc[:,0:num_col-1]\n",
    "Y = df.iloc[:, num_col-1]"
   ]
  },
  {
   "cell_type": "code",
   "execution_count": 51,
   "metadata": {},
   "outputs": [],
   "source": [
    "X_scale = scaler.transform(X)"
   ]
  },
  {
   "cell_type": "code",
   "execution_count": 52,
   "metadata": {},
   "outputs": [
    {
     "data": {
      "text/plain": [
       "array([[0.        , 0.        , 0.        , ..., 0.66666667, 0.        ,\n",
       "        0.        ],\n",
       "       [0.        , 0.        , 0.        , ..., 0.76190476, 0.        ,\n",
       "        0.        ],\n",
       "       [0.        , 0.        , 0.        , ..., 0.92857143, 0.        ,\n",
       "        0.        ],\n",
       "       ...,\n",
       "       [0.        , 0.        , 0.66666667, ..., 0.        , 0.        ,\n",
       "        0.        ],\n",
       "       [0.        , 0.        , 0.        , ..., 0.        , 0.        ,\n",
       "        0.        ],\n",
       "       [0.        , 0.        , 0.17391304, ..., 0.        , 0.        ,\n",
       "        0.        ]])"
      ]
     },
     "execution_count": 52,
     "metadata": {},
     "output_type": "execute_result"
    }
   ],
   "source": [
    "X_scale"
   ]
  },
  {
   "cell_type": "code",
   "execution_count": 53,
   "metadata": {},
   "outputs": [],
   "source": [
    "test_data = scaler.transform(np.expand_dims(X.values[0], axis=0)) "
   ]
  },
  {
   "cell_type": "code",
   "execution_count": 54,
   "metadata": {},
   "outputs": [
    {
     "data": {
      "text/plain": [
       "array([[0.        , 0.        , 0.        , ..., 0.66666667, 0.        ,\n",
       "        0.        ]])"
      ]
     },
     "execution_count": 54,
     "metadata": {},
     "output_type": "execute_result"
    }
   ],
   "source": [
    "test_data"
   ]
  },
  {
   "cell_type": "code",
   "execution_count": 55,
   "metadata": {},
   "outputs": [],
   "source": [
    "actual_result = np.argmax(loaded_model.predict(test_data).squeeze())"
   ]
  },
  {
   "cell_type": "code",
   "execution_count": 56,
   "metadata": {},
   "outputs": [
    {
     "data": {
      "text/plain": [
       "7"
      ]
     },
     "execution_count": 56,
     "metadata": {},
     "output_type": "execute_result"
    }
   ],
   "source": [
    "actual_result"
   ]
  },
  {
   "cell_type": "code",
   "execution_count": null,
   "metadata": {},
   "outputs": [],
   "source": [
    "# ----------------- Start of scaler extraction ---------------------"
   ]
  },
  {
   "cell_type": "code",
   "execution_count": 73,
   "metadata": {
    "collapsed": true
   },
   "outputs": [
    {
     "data": {
      "text/plain": [
       "['__class__',\n",
       " '__delattr__',\n",
       " '__dict__',\n",
       " '__dir__',\n",
       " '__doc__',\n",
       " '__eq__',\n",
       " '__format__',\n",
       " '__ge__',\n",
       " '__getattribute__',\n",
       " '__getstate__',\n",
       " '__gt__',\n",
       " '__hash__',\n",
       " '__init__',\n",
       " '__init_subclass__',\n",
       " '__le__',\n",
       " '__lt__',\n",
       " '__module__',\n",
       " '__ne__',\n",
       " '__new__',\n",
       " '__reduce__',\n",
       " '__reduce_ex__',\n",
       " '__repr__',\n",
       " '__setattr__',\n",
       " '__setstate__',\n",
       " '__sizeof__',\n",
       " '__str__',\n",
       " '__subclasshook__',\n",
       " '__weakref__',\n",
       " '_check_n_features',\n",
       " '_get_param_names',\n",
       " '_get_tags',\n",
       " '_more_tags',\n",
       " '_repr_html_',\n",
       " '_repr_html_inner',\n",
       " '_repr_mimebundle_',\n",
       " '_reset',\n",
       " '_validate_data',\n",
       " 'copy',\n",
       " 'data_max_',\n",
       " 'data_min_',\n",
       " 'data_range_',\n",
       " 'feature_range',\n",
       " 'fit',\n",
       " 'fit_transform',\n",
       " 'get_params',\n",
       " 'inverse_transform',\n",
       " 'min_',\n",
       " 'n_features_in_',\n",
       " 'n_samples_seen_',\n",
       " 'partial_fit',\n",
       " 'scale_',\n",
       " 'set_params',\n",
       " 'transform']"
      ]
     },
     "execution_count": 73,
     "metadata": {},
     "output_type": "execute_result"
    }
   ],
   "source": [
    "dir(scaler)"
   ]
  },
  {
   "cell_type": "code",
   "execution_count": 104,
   "metadata": {},
   "outputs": [
    {
     "data": {
      "text/plain": [
       "array([-110, -110, -110, ..., -110, -110, -110], dtype=int64)"
      ]
     },
     "execution_count": 104,
     "metadata": {},
     "output_type": "execute_result"
    }
   ],
   "source": [
    "np.array(X.min(axis=0)) "
   ]
  },
  {
   "cell_type": "code",
   "execution_count": 92,
   "metadata": {},
   "outputs": [
    {
     "data": {
      "text/plain": [
       "AP_1       0.014286\n",
       "AP_2       0.037037\n",
       "AP_3       0.014493\n",
       "AP_4       0.055556\n",
       "AP_5       0.014493\n",
       "             ...   \n",
       "AP_1594    0.014493\n",
       "AP_1595    0.076923\n",
       "AP_1596    0.023810\n",
       "AP_1597    0.018182\n",
       "AP_1598    0.041667\n",
       "Length: 1598, dtype: float64"
      ]
     },
     "execution_count": 92,
     "metadata": {},
     "output_type": "execute_result"
    }
   ],
   "source": [
    "1 / (X.max(axis=0) - X.min(axis=0))"
   ]
  },
  {
   "cell_type": "code",
   "execution_count": 110,
   "metadata": {
    "scrolled": true
   },
   "outputs": [
    {
     "data": {
      "text/plain": [
       "array([0.01428571, 0.03703704, 0.01449275, ..., 0.02380952, 0.01818182,\n",
       "       0.04166667])"
      ]
     },
     "execution_count": 110,
     "metadata": {},
     "output_type": "execute_result"
    }
   ],
   "source": [
    "scaler.scale_"
   ]
  },
  {
   "cell_type": "code",
   "execution_count": 112,
   "metadata": {},
   "outputs": [],
   "source": [
    "#numpy array을 pandas dataframe으로 변환\n",
    "\n",
    "# scale_csv = pd.DataFrame(scaler.scale_)\n",
    "# scale_csv.to_csv('feature_scale_list.csv', index=False, header = False)"
   ]
  },
  {
   "cell_type": "code",
   "execution_count": 111,
   "metadata": {
    "collapsed": true
   },
   "outputs": [
    {
     "data": {
      "text/html": [
       "<div>\n",
       "<style scoped>\n",
       "    .dataframe tbody tr th:only-of-type {\n",
       "        vertical-align: middle;\n",
       "    }\n",
       "\n",
       "    .dataframe tbody tr th {\n",
       "        vertical-align: top;\n",
       "    }\n",
       "\n",
       "    .dataframe thead th {\n",
       "        text-align: right;\n",
       "    }\n",
       "</style>\n",
       "<table border=\"1\" class=\"dataframe\">\n",
       "  <thead>\n",
       "    <tr style=\"text-align: right;\">\n",
       "      <th></th>\n",
       "      <th>0</th>\n",
       "    </tr>\n",
       "  </thead>\n",
       "  <tbody>\n",
       "    <tr>\n",
       "      <th>0</th>\n",
       "      <td>0.014286</td>\n",
       "    </tr>\n",
       "    <tr>\n",
       "      <th>1</th>\n",
       "      <td>0.037037</td>\n",
       "    </tr>\n",
       "    <tr>\n",
       "      <th>2</th>\n",
       "      <td>0.014493</td>\n",
       "    </tr>\n",
       "    <tr>\n",
       "      <th>3</th>\n",
       "      <td>0.055556</td>\n",
       "    </tr>\n",
       "    <tr>\n",
       "      <th>4</th>\n",
       "      <td>0.014493</td>\n",
       "    </tr>\n",
       "    <tr>\n",
       "      <th>...</th>\n",
       "      <td>...</td>\n",
       "    </tr>\n",
       "    <tr>\n",
       "      <th>1593</th>\n",
       "      <td>0.014493</td>\n",
       "    </tr>\n",
       "    <tr>\n",
       "      <th>1594</th>\n",
       "      <td>0.076923</td>\n",
       "    </tr>\n",
       "    <tr>\n",
       "      <th>1595</th>\n",
       "      <td>0.023810</td>\n",
       "    </tr>\n",
       "    <tr>\n",
       "      <th>1596</th>\n",
       "      <td>0.018182</td>\n",
       "    </tr>\n",
       "    <tr>\n",
       "      <th>1597</th>\n",
       "      <td>0.041667</td>\n",
       "    </tr>\n",
       "  </tbody>\n",
       "</table>\n",
       "<p>1598 rows × 1 columns</p>\n",
       "</div>"
      ],
      "text/plain": [
       "             0\n",
       "0     0.014286\n",
       "1     0.037037\n",
       "2     0.014493\n",
       "3     0.055556\n",
       "4     0.014493\n",
       "...        ...\n",
       "1593  0.014493\n",
       "1594  0.076923\n",
       "1595  0.023810\n",
       "1596  0.018182\n",
       "1597  0.041667\n",
       "\n",
       "[1598 rows x 1 columns]"
      ]
     },
     "execution_count": 111,
     "metadata": {},
     "output_type": "execute_result"
    }
   ],
   "source": [
    "scale_csv"
   ]
  },
  {
   "cell_type": "code",
   "execution_count": 106,
   "metadata": {},
   "outputs": [
    {
     "data": {
      "text/plain": [
       "array([0.        , 0.        , 0.        , ..., 0.66666667, 0.        ,\n",
       "       0.        ])"
      ]
     },
     "execution_count": 106,
     "metadata": {},
     "output_type": "execute_result"
    }
   ],
   "source": [
    "# This is formula to calculate feature scaling of original data!\n",
    "(X.values[0] + 110) * scaler.scale_"
   ]
  },
  {
   "cell_type": "code",
   "execution_count": 93,
   "metadata": {},
   "outputs": [
    {
     "data": {
      "text/plain": [
       "(-110, -40)"
      ]
     },
     "execution_count": 93,
     "metadata": {},
     "output_type": "execute_result"
    }
   ],
   "source": [
    "min(X.values[:, 0]), max(X.values[:, 0])"
   ]
  },
  {
   "cell_type": "code",
   "execution_count": 91,
   "metadata": {},
   "outputs": [
    {
     "data": {
      "text/plain": [
       "array([0.01428571, 0.03703704, 0.01449275, ..., 0.02380952, 0.01818182,\n",
       "       0.04166667])"
      ]
     },
     "execution_count": 91,
     "metadata": {},
     "output_type": "execute_result"
    }
   ],
   "source": [
    "scaler.scale_"
   ]
  },
  {
   "cell_type": "code",
   "execution_count": 84,
   "metadata": {},
   "outputs": [
    {
     "data": {
      "text/plain": [
       "array([-110., -110., -110., ..., -110., -110., -110.])"
      ]
     },
     "execution_count": 84,
     "metadata": {},
     "output_type": "execute_result"
    }
   ],
   "source": [
    "scaler.data_min_"
   ]
  },
  {
   "cell_type": "code",
   "execution_count": null,
   "metadata": {},
   "outputs": [],
   "source": [
    "# ----------------- End of scaler extraction ---------------------"
   ]
  },
  {
   "cell_type": "code",
   "execution_count": 57,
   "metadata": {},
   "outputs": [
    {
     "data": {
      "text/plain": [
       "'REGION16'"
      ]
     },
     "execution_count": 57,
     "metadata": {},
     "output_type": "execute_result"
    }
   ],
   "source": [
    "encoder.inverse_transform([actual_result])[0]"
   ]
  },
  {
   "cell_type": "code",
   "execution_count": 66,
   "metadata": {},
   "outputs": [],
   "source": [
    "# test for multiple data\n",
    "temp = [np.argmax(r) for r in loaded_model.predict(scaler.transform(X.values[:125]))]"
   ]
  },
  {
   "cell_type": "code",
   "execution_count": 68,
   "metadata": {
    "collapsed": true
   },
   "outputs": [
    {
     "data": {
      "text/plain": [
       "array([[6.03412165e-09, 7.32807603e-05, 5.59416620e-08, ...,\n",
       "        1.45262584e-06, 3.25777819e-06, 3.42793243e-08],\n",
       "       [6.53559766e-08, 2.00696697e-04, 6.58540273e-07, ...,\n",
       "        1.14015793e-05, 1.28268684e-05, 1.18432446e-07],\n",
       "       [7.59505436e-09, 1.92482010e-04, 1.49754300e-07, ...,\n",
       "        2.73033334e-06, 5.25398900e-06, 1.83263168e-07],\n",
       "       ...,\n",
       "       [3.85935067e-07, 8.18585977e-05, 1.18577864e-03, ...,\n",
       "        4.30399465e-04, 4.51772612e-05, 2.99793464e-04],\n",
       "       [5.56626922e-09, 1.11845984e-05, 1.76601548e-04, ...,\n",
       "        3.93573246e-05, 3.14766839e-06, 3.39085309e-05],\n",
       "       [1.50565320e-08, 9.97877240e-01, 1.42755103e-04, ...,\n",
       "        1.98696299e-07, 1.59474675e-05, 1.62098164e-04]], dtype=float32)"
      ]
     },
     "execution_count": 68,
     "metadata": {},
     "output_type": "execute_result"
    }
   ],
   "source": [
    "loaded_model.predict(scaler.transform(X.values[:125]))"
   ]
  },
  {
   "cell_type": "code",
   "execution_count": 59,
   "metadata": {
    "collapsed": true
   },
   "outputs": [
    {
     "data": {
      "text/plain": [
       "array(['REGION16', 'REGION16', 'REGION16', 'REGION16', 'REGION16',\n",
       "       'REGION16', 'REGION3', 'REGION3', 'REGION3', 'REGION3', 'REGION3',\n",
       "       'REGION3', 'REGION3', 'REGION3', 'REGION3', 'REGION3', 'REGION3',\n",
       "       'REGION3', 'REGION3', 'REGION3', 'REGION3', 'REGION4', 'REGION4',\n",
       "       'REGION4', 'REGION4', 'REGION4', 'REGION4', 'REGION4', 'REGION4',\n",
       "       'REGION4', 'REGION4', 'REGION5', 'REGION4', 'REGION4', 'REGION4',\n",
       "       'REGION4', 'REGION4', 'REGION4', 'REGION4', 'REGION5', 'REGION5',\n",
       "       'REGION5', 'REGION5', 'REGION5', 'REGION5', 'REGION5', 'REGION5',\n",
       "       'REGION5', 'REGION5', 'REGION5', 'REGION5', 'REGION5', 'REGION5',\n",
       "       'REGION5', 'REGION5', 'REGION5', 'REGION5', 'REGION5', 'REGION5',\n",
       "       'REGION4', 'REGION5', 'REGION5', 'REGION5', 'REGION5', 'REGION5',\n",
       "       'REGION15', 'REGION15', 'REGION15', 'REGION15', 'REGION15',\n",
       "       'REGION15', 'REGION15', 'REGION15', 'REGION15', 'REGION15',\n",
       "       'REGION15', 'REGION15', 'REGION15', 'REGION15', 'REGION15',\n",
       "       'REGION15', 'REGION15', 'REGION15', 'REGION15', 'REGION15',\n",
       "       'REGION15', 'REGION15', 'REGION15', 'REGION15', 'REGION2',\n",
       "       'REGION2', 'REGION2', 'REGION2', 'REGION2', 'REGION2', 'REGION2',\n",
       "       'REGION2', 'REGION2', 'REGION2', 'REGION2', 'REGION2', 'REGION2',\n",
       "       'REGION2', 'REGION2', 'REGION2', 'REGION2', 'REGION2', 'REGION2',\n",
       "       'REGION2', 'REGION14', 'REGION14', 'REGION14', 'REGION14',\n",
       "       'REGION14', 'REGION14', 'REGION14', 'REGION14', 'REGION14',\n",
       "       'REGION13', 'REGION14', 'REGION15', 'REGION14', 'REGION14',\n",
       "       'REGION14', 'REGION10'], dtype=object)"
      ]
     },
     "execution_count": 59,
     "metadata": {},
     "output_type": "execute_result"
    }
   ],
   "source": [
    "encoder.inverse_transform(temp)"
   ]
  },
  {
   "cell_type": "code",
   "execution_count": 60,
   "metadata": {},
   "outputs": [
    {
     "name": "stdout",
     "output_type": "stream",
     "text": [
      "INFO:tensorflow:Assets written to: C:\\Users\\User\\AppData\\Local\\Temp\\tmppsqwcb4l\\assets\n"
     ]
    },
    {
     "name": "stderr",
     "output_type": "stream",
     "text": [
      "INFO:tensorflow:Assets written to: C:\\Users\\User\\AppData\\Local\\Temp\\tmppsqwcb4l\\assets\n"
     ]
    }
   ],
   "source": [
    "# Convert from keras to TF Lite\n",
    "converter = tf.lite.TFLiteConverter.from_keras_model(loaded_model)\n",
    "tflite_model = converter.convert()"
   ]
  },
  {
   "cell_type": "code",
   "execution_count": 61,
   "metadata": {},
   "outputs": [],
   "source": [
    "# Save the model\n",
    "# with open('model_tflite_version.tflite', 'wb') as f:\n",
    "#     f.write(tflite_model)"
   ]
  },
  {
   "cell_type": "code",
   "execution_count": 62,
   "metadata": {},
   "outputs": [],
   "source": [
    "# mapping between actual region and mapped region\n",
    "le_name_mapping = dict(zip(encoder.transform(encoder.classes_), encoder.classes_))"
   ]
  },
  {
   "cell_type": "code",
   "execution_count": 63,
   "metadata": {},
   "outputs": [
    {
     "data": {
      "text/plain": [
       "{0: 'REGION1',\n",
       " 1: 'REGION10',\n",
       " 2: 'REGION11',\n",
       " 3: 'REGION12',\n",
       " 4: 'REGION13',\n",
       " 5: 'REGION14',\n",
       " 6: 'REGION15',\n",
       " 7: 'REGION16',\n",
       " 8: 'REGION17',\n",
       " 9: 'REGION18',\n",
       " 10: 'REGION2',\n",
       " 11: 'REGION3',\n",
       " 12: 'REGION4',\n",
       " 13: 'REGION5',\n",
       " 14: 'REGION6',\n",
       " 15: 'REGION7',\n",
       " 16: 'REGION8',\n",
       " 17: 'REGION9'}"
      ]
     },
     "execution_count": 63,
     "metadata": {},
     "output_type": "execute_result"
    }
   ],
   "source": [
    "le_name_mapping "
   ]
  },
  {
   "cell_type": "code",
   "execution_count": 115,
   "metadata": {},
   "outputs": [],
   "source": [
    "# save label mapping result \n",
    "\n",
    "# with open('label_mapping.csv','w', newline=\"\") as f:\n",
    "#     w = csv.writer(f)\n",
    "#     for key, value in le_name_mapping.items():\n",
    "#        w.writerow([key, value])"
   ]
  }
 ],
 "metadata": {
  "kernelspec": {
   "display_name": "Python [conda env:machinelearning] *",
   "language": "python",
   "name": "conda-env-machinelearning-py"
  },
  "language_info": {
   "codemirror_mode": {
    "name": "ipython",
    "version": 3
   },
   "file_extension": ".py",
   "mimetype": "text/x-python",
   "name": "python",
   "nbconvert_exporter": "python",
   "pygments_lexer": "ipython3",
   "version": "3.7.7"
  }
 },
 "nbformat": 4,
 "nbformat_minor": 4
}
